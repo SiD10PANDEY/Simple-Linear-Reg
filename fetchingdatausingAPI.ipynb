{
  "nbformat": 4,
  "nbformat_minor": 0,
  "metadata": {
    "colab": {
      "provenance": [],
      "authorship_tag": "ABX9TyNGOreDGZ3ArAg/w3n6T8Ur",
      "include_colab_link": true
    },
    "kernelspec": {
      "name": "python3",
      "display_name": "Python 3"
    },
    "language_info": {
      "name": "python"
    }
  },
  "cells": [
    {
      "cell_type": "markdown",
      "metadata": {
        "id": "view-in-github",
        "colab_type": "text"
      },
      "source": [
        "<a href=\"https://colab.research.google.com/github/SiD10PANDEY/Simple-Linear-Reg/blob/main/fetchingdatausingAPI.ipynb\" target=\"_parent\"><img src=\"https://colab.research.google.com/assets/colab-badge.svg\" alt=\"Open In Colab\"/></a>"
      ]
    },
    {
      "cell_type": "code",
      "execution_count": 1,
      "metadata": {
        "id": "E0FAFFKfcUWD"
      },
      "outputs": [],
      "source": [
        "import pandas as pd\n",
        "import requests"
      ]
    },
    {
      "cell_type": "code",
      "source": [
        "import requests\n",
        "\n",
        "url = \"https://animechan.io/api/v1/quotes/random\"  # Fetches a random anime quote\n",
        "\n",
        "response = requests.get(url)\n",
        "\n",
        "if response.status_code == 200:\n",
        "    data = response.json()\n",
        "    print(f\"Anime: {data['data']['anime']['name']}\")\n",
        "    print(f\"Character: {data['data']['character']['name']}\")\n",
        "    print(f\"Quote: {data['data']['content']}\")\n",
        "else:\n",
        "    print(f\"Error {response.status_code}: {response.text}\")\n"
      ],
      "metadata": {
        "colab": {
          "base_uri": "https://localhost:8080/"
        },
        "id": "tKjmoEH_cXB0",
        "outputId": "ab16df92-6c31-404c-eaed-3e5acccd4b45"
      },
      "execution_count": 4,
      "outputs": [
        {
          "output_type": "stream",
          "name": "stdout",
          "text": [
            "Anime: InuYasha\n",
            "Character: Kikyo\n",
            "Quote: You vile beast. I despise you. You loathsome half man.\n"
          ]
        }
      ]
    },
    {
      "cell_type": "code",
      "source": [
        "url = \"https://animechan.io/api/v1/quotes/random\"  # Fetches a random anime quote\n",
        "response = requests.get(url)\n",
        "\n",
        "if response.status_code == 200:\n",
        "    data2 = response.json()\n",
        "    df= pd.DataFrame(data2)\n",
        "    print(df)\n",
        "else:\n",
        "    print(f\"Error {response.status_code}: {response.text}\")"
      ],
      "metadata": {
        "colab": {
          "base_uri": "https://localhost:8080/"
        },
        "id": "kBw1lIlAhO8S",
        "outputId": "a64b122c-da41-460e-8e65-a91c6c2535d3"
      },
      "execution_count": 10,
      "outputs": [
        {
          "output_type": "stream",
          "name": "stdout",
          "text": [
            "            status                                               data\n",
            "content    success  I wanted to tell you that… Wherever you may en...\n",
            "anime      success  {'id': 280, 'name': 'Your Name.', 'altName': '...\n",
            "character  success              {'id': 422, 'name': 'Taki Tachibana'}\n"
          ]
        }
      ]
    },
    {
      "cell_type": "code",
      "source": [
        "import textwrap\n",
        "response= requests.get(\"https://animechan.io/api/v1/quotes/random\")\n",
        "\n",
        "if response.status_code==200:\n",
        "  data= response.json()\n",
        "\n",
        "  # anime_name= dataset['data']['anime']['name']\n",
        "  # character_name= dataset['data']['character']['name']\n",
        "  # quote_content= dataset['data']['content']\n",
        "\n",
        "  # quote= {\n",
        "  #         'Anime' : [anime_name],\n",
        "  #         'Character' : [character_name],\n",
        "  #         'Quote' : [quote_content]\n",
        "  # }\n",
        "\n",
        "  quote_data = {\n",
        "        'Quote': [data['data']['content']],\n",
        "        'Anime': [data['data']['anime']['name']],\n",
        "        'Character': [data['data']['character']['name']]\n",
        "\n",
        "    }\n",
        "\n",
        "  df= pd.DataFrame(quote_data)\n",
        "  pd.set_option('display.max_colwidth', None)\n",
        "  #df['Quote'] = df['Quote'].str[:20]\n",
        "  df['Quote'] = df['Quote'].apply(lambda x: textwrap.fill(x, width=80))\n",
        "  print(df)\n",
        "else:\n",
        "  print(f\"Error {response.status_code}: {response.text}\")"
      ],
      "metadata": {
        "colab": {
          "base_uri": "https://localhost:8080/"
        },
        "id": "tOPrxZ7tj8rp",
        "outputId": "d7517ef8-a071-47fd-9cac-80fe6e9e12de"
      },
      "execution_count": 22,
      "outputs": [
        {
          "output_type": "stream",
          "name": "stdout",
          "text": [
            "Error 429: {\"message\":\"Too many requests! Use a premium API key to increase rate limit.\"}\n"
          ]
        }
      ]
    },
    {
      "cell_type": "code",
      "source": [
        "\n",
        "url = \"https://animechan.io/api/v1/quotes\"  # Fetches multiple anime quotes\n",
        "\n",
        "response = requests.get(url)\n",
        "\n",
        "if response.status_code == 200:\n",
        "    data = response.json()\n",
        "    for quote in data['data']:\n",
        "        print(f\"Anime: {quote['anime']['name']}\")\n",
        "        print(f\"Character: {quote['character']['name']}\")\n",
        "        print(f\"Quote: {quote['content']}\")\n",
        "        print(\"-\" * 50)\n",
        "else:\n",
        "    print(f\"Error {response.status_code}: {response.text}\")\n"
      ],
      "metadata": {
        "colab": {
          "base_uri": "https://localhost:8080/"
        },
        "id": "_t5Vm7zTcqVv",
        "outputId": "a1560d61-d012-4c75-e465-6fcfb980e9f1"
      },
      "execution_count": 5,
      "outputs": [
        {
          "output_type": "stream",
          "name": "stdout",
          "text": [
            "Anime: No Game, No Life\n",
            "Character: Sora\n",
            "Quote: Sorry. Our world isn't as nice a place as yours. When it comes to war and killing, we have far more expertise than you do.\n",
            "--------------------------------------------------\n",
            "Anime: Tokyo Ghoul\n",
            "Character: Yoshimura\n",
            "Quote: It's not because we can't take vengeance that we should feel sorry. The real reason to feel sorry... is when one is hung up on revenge and can't live their own life.\n",
            "--------------------------------------------------\n",
            "Anime: The Future Diary\n",
            "Character: Uryuu Minene\n",
            "Quote: Keep fighting on, even if it ain't worth much.\n",
            "--------------------------------------------------\n",
            "Anime: Bleach\n",
            "Character: Kurosaki Ichigo\n",
            "Quote: The difference in ability... What about it? Do you think I should give up just because you're stronger than me?\n",
            "--------------------------------------------------\n",
            "Anime: Fate/Zero\n",
            "Character: Kaminski Natalia\n",
            "Quote: If you cut a thread, and then tie it, the thickness will be different where you originally cut it, right? In that sense, it means irreversible change.\n",
            "--------------------------------------------------\n"
          ]
        }
      ]
    },
    {
      "cell_type": "code",
      "source": [
        "import requests\n",
        "\n",
        "url = \"https://animechan.io/api/v1/quotes?limit=20\"  # Try increasing the limit\n",
        "\n",
        "response = requests.get(url)\n",
        "\n",
        "if response.status_code == 200:\n",
        "    data = response.json()\n",
        "    for quote in data['data']:\n",
        "        print(f\"Anime: {quote['anime']['name']}\")\n",
        "        print(f\"Character: {quote['character']['name']}\")\n",
        "        print(f\"Quote: {quote['content']}\")\n",
        "        print(\"-\" * 50)\n",
        "else:\n",
        "    print(f\"Error {response.status_code}: {response.text}\")\n"
      ],
      "metadata": {
        "colab": {
          "base_uri": "https://localhost:8080/"
        },
        "id": "xY1DCUD_gqXu",
        "outputId": "02caaeba-fea2-450c-b6f0-49b0c255e984"
      },
      "execution_count": 6,
      "outputs": [
        {
          "output_type": "stream",
          "name": "stdout",
          "text": [
            "Error 400: {\"status\":\"error\",\"error\":{\"code\":400,\"message\":\"Invalid request parameters\"}}\n"
          ]
        }
      ]
    },
    {
      "cell_type": "code",
      "source": [
        "all_quotes = []\n",
        "for _ in range(4):  # Fetch 4 times to get ~20 quotes\n",
        "    response = requests.get(\"https://animechan.io/api/v1/quotes\")\n",
        "    if response.status_code == 200:\n",
        "        all_quotes.extend(response.json()['data'])\n",
        "\n",
        "for quote in all_quotes:\n",
        "    print(f\"Anime: {quote['anime']['name']}\")\n",
        "    print(f\"Character: {quote['character']['name']}\")\n",
        "    print(f\"Quote: {quote['content']}\")\n",
        "    print(\"-\" * 50)\n"
      ],
      "metadata": {
        "colab": {
          "base_uri": "https://localhost:8080/"
        },
        "id": "ZtCe1M_PgGWH",
        "outputId": "cd136007-a563-499f-e759-758b2a3e23c8"
      },
      "execution_count": 7,
      "outputs": [
        {
          "output_type": "stream",
          "name": "stdout",
          "text": [
            "Anime: Demon Slayer: Kimetsu no Yaiba\n",
            "Character: Tanjiro Kamado\n",
            "Quote: No! Because once I’ve mastered it myself, I can teach them, too!\n",
            "--------------------------------------------------\n",
            "Anime: My Hero Academia\n",
            "Character: Izuku Midoriya\n",
            "Quote: Dreams can become reality!\n",
            "--------------------------------------------------\n",
            "Anime: Steins Gate\n",
            "Character: Kurisu Makise\n",
            "Quote: You can run away, but that’ll just make it worse!\n",
            "--------------------------------------------------\n",
            "Anime: Dr. Stone\n",
            "Character: Senku Ishigami\n",
            "Quote: I was ten Billion percent certain that you were alive. There is no way a guy who was intent on confessing to Yuzuriha would give in after just a few thousand years. You aren’t that weak.\n",
            "--------------------------------------------------\n",
            "Anime: Demon Slayer: Kimetsu no Yaiba\n",
            "Character: Yoriichi Tsugikuni\n",
            "Quote: Brother your dream was to become the strongest samurai in the country, right? I want to be like you as well. I want to become the second strongest samurai in the country.\n",
            "--------------------------------------------------\n",
            "Anime: Kokoro Connect\n",
            "Character: Iori Nagase\n",
            "Quote: I am who I am now because of my past. Calling any choice I made a mistake would be calling who I am now a mistake.\n",
            "--------------------------------------------------\n",
            "Anime: Nisekoi: False Love\n",
            "Character: Tachibana Marika\n",
            "Quote: You can't achieve anything if you don't make a move. Love is an all-out assault.\n",
            "--------------------------------------------------\n",
            "Anime: Hyouka\n",
            "Character: Oreki Houtarou\n",
            "Quote: The best way to tame a mystery is with another mystery.\n",
            "--------------------------------------------------\n",
            "Anime: Hellsing\n",
            "Character: Alucard\n",
            "Quote: Police girl… Enjoy this. Enjoy the massacre. This alone will make you strong.\n",
            "--------------------------------------------------\n",
            "Anime: Naruto\n",
            "Character: Choji Akamichi\n",
            "Quote: You can steal the very last bite of my very best food. You can mock me all you want. But if you insult my best friend, I will obliterate you.\n",
            "--------------------------------------------------\n",
            "Anime: Fate/Zero\n",
            "Character: Gilgamesh\n",
            "Quote: Do exactly as you like. That is the true meaning of pleasure. Pleasure leads to joy and joy leads to happiness. Your path is now clear, Kirei. So clear there is no longer any need to hesitate.\n",
            "--------------------------------------------------\n",
            "Anime: No Game, No Life\n",
            "Character: Shiro\n",
            "Quote: Fulfilled people are just an urban legend.\n",
            "--------------------------------------------------\n",
            "Anime: Tari Tari\n",
            "Character: Wakana Sakai\n",
            "Quote: But for me, just having fun wasn't enough. The support of my friends was equally important. They encouraged me through my struggles. They're all so different from me, but they're honest and determined. We fought, but we also worked together. I know my mother had a friend like that too. Someone to have fun with. Someone to share her worries. Mom, I have finished the song we promised to write. Sorry it took so long. I'm glad I could create this song with you and my friends. I'll treasure it always for bringing us together.\n",
            "--------------------------------------------------\n",
            "Anime: Tokyo Ghoul\n",
            "Character: Touka Kirishima\n",
            "Quote: After you've gobbled him down you'd be left alone to regret it while covered in blood and guts. That's the hunger of a ghoul. That's our destiny.\n",
            "--------------------------------------------------\n",
            "Anime: Nisekoi: False Love\n",
            "Character: Tachibana Chika\n",
            "Quote: You have no intention of reciprocating my daughter's feelings, do you? So what gives you the right to speak in that way? Perhaps you wish to appease your guilty conscience. Would you not call that \"hypocrisy\"?\n",
            "--------------------------------------------------\n",
            "Anime: Dragon Ball\n",
            "Character: Vegeta\n",
            "Quote: So he killed my father and murdered my people. That means nothing to me. Strength is the only thing that matters in this world. Everything else is just a delusion for the weak.\n",
            "--------------------------------------------------\n",
            "Anime: Fruits Basket\n",
            "Character: Arisa Uotani\n",
            "Quote: Maybe I was lonely. Maybe I've just... always... been lonely.\n",
            "--------------------------------------------------\n",
            "Anime: Hellsing\n",
            "Character: Integra Hellsing\n",
            "Quote: These monsters dare to enter this house built on blood and honor! I will see them all roast in the deepest pits of Hell!\n",
            "--------------------------------------------------\n",
            "Anime: Fruits Basket\n",
            "Character: Sohma Kagura\n",
            "Quote: DON'T LEAVE ME!!\n",
            "--------------------------------------------------\n",
            "Anime: Fruits Basket\n",
            "Character: Sohma Momiji\n",
            "Quote: Waah, Kyo's picking on me! (Repeated line)\n",
            "--------------------------------------------------\n"
          ]
        }
      ]
    },
    {
      "cell_type": "code",
      "source": [],
      "metadata": {
        "id": "zhUZLkXqgtHU"
      },
      "execution_count": null,
      "outputs": []
    }
  ]
}